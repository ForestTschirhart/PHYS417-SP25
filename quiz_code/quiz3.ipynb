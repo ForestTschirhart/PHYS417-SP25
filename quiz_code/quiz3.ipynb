{
 "cells": [
  {
   "cell_type": "code",
   "execution_count": 2,
   "id": "851f5eff",
   "metadata": {},
   "outputs": [],
   "source": [
    "import numpy as np \n",
    "import torch \n",
    "import matplotlib.pyplot as plt \n"
   ]
  },
  {
   "cell_type": "markdown",
   "id": "408358cf",
   "metadata": {},
   "source": [
    "Lab 4 videos: Upload a Python code snippet that defines a neural network model class \"myCNNModel\" with the following specifications. \n",
    "\n",
    "Convolution layer 1 = input channels = 1, output channels = 16, kernel size 3, stride = 1, padding = 0, ReLU activation.\n",
    "\n",
    "Max pool layer 1 = kernel size 2\n",
    "\n",
    "Convolution layer 2 = input channels = 16, output channels = 32, kernel size 3, stride = 1, padding = 0, ReLU activation.\n",
    "\n",
    "Max pool layer 2 = kernel size 2\n",
    "\n",
    "Fully Connected layer 1 = 800 neurons\n",
    "\n",
    "Output layer = 10 neurons\n",
    "\n",
    "To take a snippet of your screen, you can use \"Snipping Tool\" in Windows, and \"Shift + Command + 5\" key combinations for Mac.\n",
    "\n",
    "(This question can be answered after your Lab session intro)"
   ]
  },
  {
   "cell_type": "code",
   "execution_count": 3,
   "id": "5c624e19",
   "metadata": {},
   "outputs": [],
   "source": [
    "class myCNNModel(torch.nn.Module):\n",
    "    def __init__(self, input_dim):\n",
    "        super(myCNNModel, self).__init__()\n",
    "        #assumes input is 1xNxN; N=input_dim\n",
    "        self.conv1 = torch.nn.Conv2d(1, 16, kernel_size=3, stride=1, padding=0)\n",
    "        self.maxpool = torch.nn.MaxPool2d(kernel_size=2, stride=1, padding=0)\n",
    "        self.conv2 = torch.nn.Conv2d(16, 32, kernel_size=3, stride=1, padding=0)\n",
    "\n",
    "        # calculate the output size after conv2\n",
    "        self.input_dim = input_dim\n",
    "        self.c1_dim = (self.input_dim - 3 + 0)//1 + 1\n",
    "        self.p1_dim = (self.c1_dim - 2 + 0)//1 + 1\n",
    "        self.c2_dim = (self.p1_dim - 3 + 0)//1 + 1\n",
    "        self.p2_dim = (self.c2_dim - 2 + 0)//1 + 1\n",
    "\n",
    "        self.p2_flat = self.p2_dim**2 * 32\n",
    "\n",
    "        self.fc1 = torch.nn.Linear(self.p2_flat, 800)\n",
    "        self.fc2 = torch.nn.Linear(800, 10)\n",
    "        self.relu = torch.nn.ReLU()\n",
    "\n",
    "    def forward(self, x):\n",
    "        x = self.maxpool(self.relu(self.conv1(x)))\n",
    "        x = self.maxpool(self.relu(self.conv2(x)))\n",
    "        x = x.view(-1, self.p2_flat)\n",
    "        x = self.relu(self.fc1(x))\n",
    "        x = self.fc2(x)\n",
    "        return x # Raw Logits so that CrossEntropyLoss can be used"
   ]
  },
  {
   "cell_type": "code",
   "execution_count": null,
   "id": "14aa7bdc",
   "metadata": {},
   "outputs": [],
   "source": []
  },
  {
   "cell_type": "code",
   "execution_count": null,
   "id": "7b52ecf2",
   "metadata": {},
   "outputs": [],
   "source": []
  }
 ],
 "metadata": {
  "kernelspec": {
   "display_name": "base",
   "language": "python",
   "name": "python3"
  },
  "language_info": {
   "codemirror_mode": {
    "name": "ipython",
    "version": 3
   },
   "file_extension": ".py",
   "mimetype": "text/x-python",
   "name": "python",
   "nbconvert_exporter": "python",
   "pygments_lexer": "ipython3",
   "version": "3.12.9"
  }
 },
 "nbformat": 4,
 "nbformat_minor": 5
}
